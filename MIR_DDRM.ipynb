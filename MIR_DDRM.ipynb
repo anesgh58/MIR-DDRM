{
  "cells": [
    {
      "cell_type": "markdown",
      "metadata": {
        "id": "view-in-github",
        "colab_type": "text"
      },
      "source": [
        "<a href=\"https://colab.research.google.com/github/anesgh58/MIR-DDRM/blob/main/MIR_DDRM.ipynb\" target=\"_parent\"><img src=\"https://colab.research.google.com/assets/colab-badge.svg\" alt=\"Open In Colab\"/></a>"
      ]
    },
    {
      "cell_type": "code",
      "source": [
        "%cd ..\n",
        "%rm -r MIR-DDRM"
      ],
      "metadata": {
        "colab": {
          "base_uri": "https://localhost:8080/"
        },
        "id": "PNrbDqW4U9eV",
        "outputId": "2d2c30e9-c417-42e1-8a94-b5518cf345e4"
      },
      "execution_count": 22,
      "outputs": [
        {
          "output_type": "stream",
          "name": "stdout",
          "text": [
            "/content\n"
          ]
        }
      ]
    },
    {
      "cell_type": "code",
      "execution_count": 23,
      "metadata": {
        "colab": {
          "base_uri": "https://localhost:8080/"
        },
        "id": "bFlICbjpQz-k",
        "outputId": "8bb774a4-13cf-422a-94e0-6359b658db81"
      },
      "outputs": [
        {
          "output_type": "stream",
          "name": "stdout",
          "text": [
            "Drive already mounted at /content/drive; to attempt to forcibly remount, call drive.mount(\"/content/drive\", force_remount=True).\n",
            "Enter your GitHub token:··········\n",
            "Cloning into 'MIR-DDRM'...\n",
            "remote: Enumerating objects: 299, done.\u001b[K\n",
            "remote: Counting objects: 100% (299/299), done.\u001b[K\n",
            "remote: Compressing objects: 100% (203/203), done.\u001b[K\n",
            "remote: Total 299 (delta 102), reused 280 (delta 83), pack-reused 0 (from 0)\u001b[K\n",
            "Receiving objects: 100% (299/299), 2.31 MiB | 6.46 MiB/s, done.\n",
            "Resolving deltas: 100% (102/102), done.\n",
            "Downloading exp/logs/imagenet/256x256_diffusion_uncond.pt (368 MB)\n",
            "Error downloading object: exp/logs/imagenet/256x256_diffusion_uncond.pt (2616c3e): Smudge error: Error downloading exp/logs/imagenet/256x256_diffusion_uncond.pt (2616c3e6e2ca5fa96178e53460226ced2ae2c1e2615408f79f9615d4fb34e20c): batch response: This repository is over its data quota. Account responsible for LFS bandwidth should purchase more data packs to restore access.\n",
            "\n",
            "Errors logged to /content/MIR-DDRM/.git/lfs/logs/20241103T233105.169722665.log\n",
            "Use `git lfs logs last` to view the log.\n",
            "error: external filter 'git-lfs filter-process' failed\n",
            "fatal: exp/logs/imagenet/256x256_diffusion_uncond.pt: smudge filter lfs failed\n",
            "warning: Clone succeeded, but checkout failed.\n",
            "You can inspect what was checked out with 'git status'\n",
            "and retry with 'git restore --source=HEAD :/'\n",
            "\n"
          ]
        }
      ],
      "source": [
        "\n",
        "from getpass import getpass\n",
        "from google.colab import drive\n",
        "\n",
        "# drive.mount('/content/drive')\n",
        "\n",
        "# Prompt for the token securely\n",
        "token = getpass('Enter your GitHub token:')\n",
        "\n",
        "# Clone the repository using the token in the URL\n",
        "!git clone https://{token}@github.com/anesgh58/MIR-DDRM.git"
      ]
    },
    {
      "cell_type": "code",
      "execution_count": 24,
      "metadata": {
        "colab": {
          "base_uri": "https://localhost:8080/"
        },
        "id": "YOhjJJ7YQ7Cb",
        "outputId": "75d732d1-4c29-4e82-b755-7682782022c5"
      },
      "outputs": [
        {
          "output_type": "stream",
          "name": "stdout",
          "text": [
            "/content/MIR-DDRM\n",
            "Already up to date.\n"
          ]
        }
      ],
      "source": [
        "# Move to repo\n",
        "%cd MIR-DDRM\n",
        "\n",
        "# make sure that repo is up to date\n",
        "# ! git stash\n",
        "! git pull"
      ]
    },
    {
      "cell_type": "code",
      "execution_count": 26,
      "metadata": {
        "colab": {
          "base_uri": "https://localhost:8080/"
        },
        "id": "GbuMm8J7Q8xV",
        "outputId": "ec752a2c-b8b8-4bac-9ff4-83550b903878"
      },
      "outputs": [
        {
          "output_type": "stream",
          "name": "stdout",
          "text": [
            "2024-11-03 23:33:51.105084: E external/local_xla/xla/stream_executor/cuda/cuda_fft.cc:485] Unable to register cuFFT factory: Attempting to register factory for plugin cuFFT when one has already been registered\n",
            "2024-11-03 23:33:51.127724: E external/local_xla/xla/stream_executor/cuda/cuda_dnn.cc:8454] Unable to register cuDNN factory: Attempting to register factory for plugin cuDNN when one has already been registered\n",
            "2024-11-03 23:33:51.133743: E external/local_xla/xla/stream_executor/cuda/cuda_blas.cc:1452] Unable to register cuBLAS factory: Attempting to register factory for plugin cuBLAS when one has already been registered\n",
            "2024-11-03 23:33:51.148418: I tensorflow/core/platform/cpu_feature_guard.cc:210] This TensorFlow binary is optimized to use available CPU instructions in performance-critical operations.\n",
            "To enable the following instructions: AVX2 FMA, in other operations, rebuild TensorFlow with the appropriate compiler flags.\n",
            "2024-11-03 23:33:52.254968: W tensorflow/compiler/tf2tensorrt/utils/py_utils.cc:38] TF-TRT Warning: Could not find TensorRT\n",
            "Module path: /content/DDPM\n",
            "Current sys.path: ['/content/MIR-DDRM', '/env/python', '/usr/lib/python310.zip', '/usr/lib/python3.10', '/usr/lib/python3.10/lib-dynload', '/usr/local/lib/python3.10/dist-packages', '/usr/lib/python3/dist-packages', '/usr/local/lib/python3.10/dist-packages/setuptools/_vendor', '/tmp/tmpraof4h_m', '/content/DDPM']\n",
            "File not found: /content/DDPM/denoising_diffusion_pytorch.py\n",
            "Import failed: No module named 'denoising_diffusion_pytorch'\n",
            "INFO - main.py - 2024-11-03 23:33:55,316 - Using device: cuda\n",
            "INFO - main.py - 2024-11-03 23:33:55,317 - Writing log file to exp/logs/imagenet_ood\n",
            "INFO - main.py - 2024-11-03 23:33:55,317 - Exp instance id = 24054\n",
            "INFO - main.py - 2024-11-03 23:33:55,317 - Exp comment = \n",
            "2.24GB [01:38, 22.6MB/s]                \n",
            "/content/MIR-DDRM/runners/diffusion.py:163: FutureWarning: You are using `torch.load` with `weights_only=False` (the current default value), which uses the default pickle module implicitly. It is possible to construct malicious pickle data which will execute arbitrary code during unpickling (See https://github.com/pytorch/pytorch/blob/main/SECURITY.md#untrusted-models for more details). In a future release, the default value for `weights_only` will be flipped to `True`. This limits the functions that could be executed during unpickling. Arbitrary objects will no longer be allowed to be loaded via this mode unless they are explicitly allowlisted by the user via `torch.serialization.add_safe_globals`. We recommend you start setting `weights_only=True` for any use case where you don't have full control of the loaded file. Please open an issue on GitHub for any issues related to this experimental feature.\n",
            "  model.load_state_dict(torch.load(ckpt, map_location=self.device))\n",
            "218MB [00:08, 25.3MB/s]               \n",
            "/content/MIR-DDRM/runners/diffusion.py:175: FutureWarning: You are using `torch.load` with `weights_only=False` (the current default value), which uses the default pickle module implicitly. It is possible to construct malicious pickle data which will execute arbitrary code during unpickling (See https://github.com/pytorch/pytorch/blob/main/SECURITY.md#untrusted-models for more details). In a future release, the default value for `weights_only` will be flipped to `True`. This limits the functions that could be executed during unpickling. Arbitrary objects will no longer be allowed to be loaded via this mode unless they are explicitly allowlisted by the user via `torch.serialization.add_safe_globals`. We recommend you start setting `weights_only=True` for any use case where you don't have full control of the loaded file. Please open an issue on GitHub for any issues related to this experimental feature.\n",
            "  classifier.load_state_dict(torch.load(ckpt, map_location=self.device))\n",
            "building dataset from exp/imagenet.txt\n",
            "read meta done\n",
            "Start from 0\n",
            "  0% 0/50 [00:00<?, ?it/s]\n",
            "0it [00:00, ?it/s]\u001b[A\n",
            "1it [00:17, 17.77s/it]\u001b[A\n",
            "2it [00:19,  8.50s/it]\u001b[A\n",
            "3it [00:21,  5.53s/it]\u001b[A\n",
            "4it [00:23,  4.16s/it]\u001b[A\n",
            "5it [00:25,  3.41s/it]\u001b[A\n",
            "6it [00:27,  2.95s/it]\u001b[A^C\n"
          ]
        }
      ],
      "source": [
        "!python main.py --ni --config imagenet_512_cc.yml --doc imagenet_ood --timesteps 20 --eta 0.85 --etaB 1 --deg deblur_bccb --sigma_0 0 -i deblur_us_sigma_0"
      ]
    }
  ],
  "metadata": {
    "accelerator": "GPU",
    "colab": {
      "gpuType": "T4",
      "provenance": [],
      "authorship_tag": "ABX9TyOKkGVYxcEhfJoWuVVokWRh",
      "include_colab_link": true
    },
    "kernelspec": {
      "display_name": "Python 3",
      "name": "python3"
    },
    "language_info": {
      "name": "python"
    }
  },
  "nbformat": 4,
  "nbformat_minor": 0
}